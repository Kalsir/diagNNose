{
 "cells": [
  {
   "cell_type": "code",
   "execution_count": 47,
   "metadata": {},
   "outputs": [],
   "source": [
    "# IMPORTS\n",
    "from collections import namedtuple\n",
    "import re\n",
    "from matplotlib import pyplot as plt\n",
    "import numpy as np\n",
    "import pickle"
   ]
  },
  {
   "cell_type": "code",
   "execution_count": 49,
   "metadata": {},
   "outputs": [],
   "source": [
    "GapSentence = namedtuple('GapSentence', ['sen', 'raw', 'labels', 'filler', 'gap_start', 'gap_end', 'dep_len'])\n",
    "\n",
    "\n",
    "def read_data(filename, skip_lastline=True):\n",
    "    with open(filename) as f:\n",
    "        stringsens = f.read().split('\\n')\n",
    "        wordsens = [s.split(' ') for s in stringsens]\n",
    "        if skip_lastline:\n",
    "            wordsens = wordsens[:-1]\n",
    "    return wordsens\n",
    "\n",
    "def locate_gap(s):\n",
    "    sen = []\n",
    "    rawsen = ' '.join(s)\n",
    "    labels = []\n",
    "    filler = None\n",
    "    gap_start = None\n",
    "    gap_end = None\n",
    "    dep_len = None\n",
    "    \n",
    "    sen_len = 0\n",
    "    inside_gap = False\n",
    "    for i, w in enumerate(s):\n",
    "        if re.match(r'(\\*T\\*-[0-9]+)|(</?fgdep>)', w) is None:\n",
    "            sen.append(w)\n",
    "            sen_len += 1\n",
    "            \n",
    "            if inside_gap:\n",
    "                labels.append(1)\n",
    "            else:\n",
    "                labels.append(0)\n",
    "\n",
    "        elif w == '<fgdep>':\n",
    "            inside_gap = True\n",
    "            gap_start = sen_len\n",
    "            filler = s[i+1]\n",
    "\n",
    "        elif w == '</fgdep>':\n",
    "            inside_gap = False\n",
    "            gap_end = sen_len\n",
    "            dep_len = gap_end - gap_start\n",
    "    \n",
    "    return GapSentence(sen, rawsen, labels, filler, gap_start, gap_end, dep_len)\n",
    "\n",
    "\n",
    "rawsens = read_data('data/filler_gap_deps.txt')\n",
    "gapsens = {i:g for i,g in enumerate(map(locate_gap, rawsens))}\n",
    "\n",
    "whgapsens = {i:g for i,g in gapsens.items() if g.filler in 'Ww' and g.dep_len > 2}\n",
    "\n",
    "print(len(whgapsens))\n",
    "\n",
    "with open('data/gapsens.pickle', 'wb') as f:\n",
    "    pickle.dump(gapsens, f)"
   ]
  },
  {
   "cell_type": "code",
   "execution_count": 63,
   "metadata": {},
   "outputs": [
    {
     "name": "stdout",
     "output_type": "stream",
     "text": [
      "Neither Lorillard nor the researchers <fgdep> who *T*-3 </fgdep> studied the workers were aware of any research on smokers of the Kent cigarettes .\n",
      "\n",
      "  0:  Neither        0\n",
      "  1:  Lorillard      0\n",
      "  2:  nor            0\n",
      "  3:  the            0\n",
      "  4:  researchers    0\n",
      "f-5:  who            1\n",
      "g-6:  studied        0\n",
      "  7:  the            0\n",
      "  8:  workers        0\n",
      "  9:  were           0\n",
      "  10: aware          0\n",
      "  11: of             0\n",
      "  12: any            0\n",
      "  13: research       0\n",
      "  14: on             0\n",
      "  15: smokers        0\n",
      "  16: of             0\n",
      "  17: the            0\n",
      "  18: Kent           0\n",
      "  19: cigarettes     0\n",
      "  20: .              0\n"
     ]
    }
   ],
   "source": [
    "def print_gapsen(g):\n",
    "    print(f'{g.raw}\\n')\n",
    "    for i, x in enumerate(zip(g.sen,g.labels)):\n",
    "        sym = 'f-' if i==g.gap_start else 'g-' if i==g.gap_end else '  '\n",
    "        space1 = ' '*((i<10)+1)\n",
    "        space2 = ' '*(15-len(x[0]))\n",
    "        print(f'{sym}{i}:{space1}{x[0]}{space2}{x[1]}')\n",
    "        \n",
    "print_gapsen(gapsens[2])"
   ]
  },
  {
   "cell_type": "code",
   "execution_count": 43,
   "metadata": {},
   "outputs": [
    {
     "data": {
      "image/png": "[encoded data removed]",
      "text/plain": [
       "<Figure size 1080x504 with 1 Axes>"
      ]
     },
     "metadata": {
      "needs_background": "light"
     },
     "output_type": "display_data"
    }
   ],
   "source": [
    "def plot_dep_lens(gapsendict, label=''):\n",
    "    plt.rcParams['figure.figsize'] = [15, 7]\n",
    "    plt.rcParams['axes.axisbelow'] = True\n",
    "\n",
    "    dep_lens = [g.dep_len for g in gapsendict.values()]\n",
    "    plt.hist(dep_lens, bins=(np.arange(max(dep_lens)) - 0.5), rwidth=0.7, label=label)\n",
    "    plt.yscale('log')\n",
    "    plt.grid()\n",
    "    plt.xlim((0,51))\n",
    "    plt.xticks([1] + list(range(5,51,5)))\n",
    "    plt.xlabel('Dependency length', fontsize=18)\n",
    "    \n",
    "plot_dep_lens(gapsens, label='All')\n",
    "\n",
    "wh_gaps = {k:g for k,g in gapsens.items() if g.filler[0] in 'Ww'}\n",
    "plot_dep_lens(wh_gaps, label='Wh fillers')\n",
    "\n",
    "plt.legend(prop={'size': 16})\n",
    "plt.show()"
   ]
  }
 ],
 "metadata": {
  "kernelspec": {
   "display_name": "Python 3",
   "language": "python",
   "name": "python3"
  },
  "language_info": {
   "codemirror_mode": {
    "name": "ipython",
    "version": 3
   },
   "file_extension": ".py",
   "mimetype": "text/x-python",
   "name": "python",
   "nbconvert_exporter": "python",
   "pygments_lexer": "ipython3",
   "version": "3.6.6"
  }
 },
 "nbformat": 4,
 "nbformat_minor": 2
}
